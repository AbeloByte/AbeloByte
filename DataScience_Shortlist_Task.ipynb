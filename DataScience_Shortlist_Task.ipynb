{
  "nbformat": 4,
  "nbformat_minor": 0,
  "metadata": {
    "colab": {
      "provenance": [],
      "collapsed_sections": [
        "5uxwaczcORii",
        "UlL65U-eP-Ul",
        "AofSl-bslP7K",
        "l3F7179owSGH",
        "oquOnjMMxb5C",
        "6m01wMZE1X8_",
        "cJQFa_9W2i3s"
      ],
      "authorship_tag": "ABX9TyPJQbZoMxk8Rgx7mt96VtH9",
      "include_colab_link": true
    },
    "kernelspec": {
      "name": "python3",
      "display_name": "Python 3"
    },
    "language_info": {
      "name": "python"
    }
  },
  "cells": [
    {
      "cell_type": "markdown",
      "metadata": {
        "id": "view-in-github",
        "colab_type": "text"
      },
      "source": [
        "<a href=\"https://colab.research.google.com/github/AbeloByte/AbeloByte/blob/main/DataScience_Shortlist_Task.ipynb\" target=\"_parent\"><img src=\"https://colab.research.google.com/assets/colab-badge.svg\" alt=\"Open In Colab\"/></a>"
      ]
    },
    {
      "cell_type": "markdown",
      "source": [
        "# *1. What is the difference between a list, a dictionary, and a NumPy array? Give one example of each.*"
      ],
      "metadata": {
        "id": "rmpLekS0HxeA"
      }
    },
    {
      "cell_type": "markdown",
      "source": [
        "1. A list is like a container that holds items in order. we can store anything what i mean is any kind of data type (numbers, strings, even other lists), and We can access those by position(index).\n",
        "\n",
        "```\n",
        "- EXAMPLE\n",
        "Department  = [\"CSE\",\"SW\",\"ECE\"]\n",
        "```\n",
        "\n",
        "2. A dictionary stores data as key-value pairs.We look things up by key.Keys must be unique and hashable.\n",
        "\n",
        "```\n",
        "- EXAMPLE\n",
        "Winner_Department  = { \"CSE\": 1, \"SW\": 2 ,\"ECE\": 3 }\n",
        "```\n",
        "\n",
        "\n",
        "3. A data structure provided by the NumPy library designed for numerical operations.It  is like a super list made for numbers. It's faster and better for math and data operations.\n",
        "\n",
        "```\n",
        "- EXAMPLE\n",
        "import numpy as np  \n",
        "Department_Sections = np.array([1, 2, 3, 4])\n",
        "\n",
        "```\n",
        "\n",
        "\n",
        "\n"
      ],
      "metadata": {
        "id": "oX0sxZXqHz3J"
      }
    },
    {
      "cell_type": "markdown",
      "source": [
        "# 2. Given the list [10, 15, 20, 25, 30], write a function that returns the square of only even numbers.\n",
        "\n",
        "\n",
        "\n",
        "\n",
        "```\n",
        "- Example\n",
        "def Square_of_Even_Number(numbers):\n",
        "    return [x**2 for x in numbers if x % 2 == 0]\n",
        "\n",
        "CSEC = [10, 15, 20, 25, 30]\n",
        "print(Square_of_Even_Number(CSEC))\n",
        "\n",
        "\n",
        "```\n",
        "\n"
      ],
      "metadata": {
        "id": "s_t8CKsCIIUG"
      }
    },
    {
      "cell_type": "markdown",
      "source": [
        "# 3 .What does the following code output, and why?\n",
        "\n",
        "\n",
        "\n",
        "![image.png](data:image/png;base64,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)\n",
        "\n",
        "\n",
        "\n",
        "\n",
        "\n",
        "```\n",
        "result is x = [1,2,3,4]\n",
        "y = x does not create a new list. It simply makes y another name (or reference) for the same list that x points to. So, when we do y.append(4), we're modifying the same list. Therefore when we print x, it also shows the modified list\n",
        "So the answer is [1, 2, 3, 4].\n",
        "\n",
        "```\n",
        "\n",
        "\n",
        "\n"
      ],
      "metadata": {
        "id": "3p7FpNA1MOom"
      }
    },
    {
      "cell_type": "markdown",
      "source": [
        "# 4. What does .shape and .describe() tell you about a pandas DataFrame? Show using an example.\n",
        "\n",
        "\n",
        "\n",
        "```\n",
        "\n",
        ".shape\n",
        "Shows the size of the DataFrame: (number of rows, number of columns). it helps us understand the size of our data.\n",
        "\n",
        "\n",
        "\n",
        "\n",
        ".describe()\n",
        "it gives us summary statistics of numeric columns, like average, min, max, etc.shortly it gives us quick insights into the distribution and spread of numeric columns.\n",
        "\n",
        "Example ::\n",
        "import pandas as pd\n",
        "data = {\n",
        "    'Age': [25, 30, 22, 35, 28],\n",
        "    'Salary': [50000, 60000, 45000, 70000, 52000]\n",
        "}\n",
        "df = pd.DataFrame(data)\n",
        "\n",
        "print(\"Shape:\", df.shape) ---> Shape: (5, 2)\n",
        "\n",
        "print(\"\\nDescribe:\") ---> this give us summery\n",
        "\n",
        "             Age        Salary\n",
        "count   5.000000      5.000000\n",
        "mean   28.000000  55400.000000\n",
        "std     4.949747   9433.981133\n",
        "min    22.000000  45000.000000\n",
        "25%    25.000000  50000.000000\n",
        "50%    28.000000  52000.000000\n",
        "75%    30.000000  60000.000000\n",
        "max    35.000000  70000.000000\n",
        "\n",
        "\n",
        "```\n",
        "\n"
      ],
      "metadata": {
        "id": "5uxwaczcORii"
      }
    },
    {
      "cell_type": "code",
      "source": [],
      "metadata": {
        "id": "2ygGAvi_Omle"
      },
      "execution_count": null,
      "outputs": []
    },
    {
      "cell_type": "markdown",
      "source": [
        "# 5. Load this CSV: airtravel.csv  Print the first 5 rows What do you notice about the data?\n",
        "\n",
        "\n"
      ],
      "metadata": {
        "id": "UlL65U-eP-Ul"
      }
    },
    {
      "cell_type": "code",
      "source": [
        "import pandas as pd\n",
        "\n",
        "df = pd.read_csv('airtravel.csv')\n",
        "\n",
        "df.head(5)\n",
        "\n",
        "# The dataset contains columns like Month and Passenger Count. The Month column is likely categorical  while Passenger Count is numeric. and also\n",
        "# From the data  it looks like the Month column represents each month of the year and the Passenger Count column shows how many passengers traveled in each of those months. It gives a sense of how passenger numbers change over time."
      ],
      "metadata": {
        "colab": {
          "base_uri": "https://localhost:8080/",
          "height": 206
        },
        "id": "wbYz7jzeQDM7",
        "outputId": "94d1d724-045c-4f50-8ed1-3d1468f209e8"
      },
      "execution_count": null,
      "outputs": [
        {
          "output_type": "execute_result",
          "data": {
            "text/plain": [
              "  Month   \"1958\"   \"1959\"   \"1960\"\n",
              "0   JAN      340      360      417\n",
              "1   FEB      318      342      391\n",
              "2   MAR      362      406      419\n",
              "3   APR      348      396      461\n",
              "4   MAY      363      420      472"
            ],
            "text/html": [
              "\n",
              "  <div id=\"df-40fd5231-6d33-4184-8609-8959bb85fa15\" class=\"colab-df-container\">\n",
              "    <div>\n",
              "<style scoped>\n",
              "    .dataframe tbody tr th:only-of-type {\n",
              "        vertical-align: middle;\n",
              "    }\n",
              "\n",
              "    .dataframe tbody tr th {\n",
              "        vertical-align: top;\n",
              "    }\n",
              "\n",
              "    .dataframe thead th {\n",
              "        text-align: right;\n",
              "    }\n",
              "</style>\n",
              "<table border=\"1\" class=\"dataframe\">\n",
              "  <thead>\n",
              "    <tr style=\"text-align: right;\">\n",
              "      <th></th>\n",
              "      <th>Month</th>\n",
              "      <th>\"1958\"</th>\n",
              "      <th>\"1959\"</th>\n",
              "      <th>\"1960\"</th>\n",
              "    </tr>\n",
              "  </thead>\n",
              "  <tbody>\n",
              "    <tr>\n",
              "      <th>0</th>\n",
              "      <td>JAN</td>\n",
              "      <td>340</td>\n",
              "      <td>360</td>\n",
              "      <td>417</td>\n",
              "    </tr>\n",
              "    <tr>\n",
              "      <th>1</th>\n",
              "      <td>FEB</td>\n",
              "      <td>318</td>\n",
              "      <td>342</td>\n",
              "      <td>391</td>\n",
              "    </tr>\n",
              "    <tr>\n",
              "      <th>2</th>\n",
              "      <td>MAR</td>\n",
              "      <td>362</td>\n",
              "      <td>406</td>\n",
              "      <td>419</td>\n",
              "    </tr>\n",
              "    <tr>\n",
              "      <th>3</th>\n",
              "      <td>APR</td>\n",
              "      <td>348</td>\n",
              "      <td>396</td>\n",
              "      <td>461</td>\n",
              "    </tr>\n",
              "    <tr>\n",
              "      <th>4</th>\n",
              "      <td>MAY</td>\n",
              "      <td>363</td>\n",
              "      <td>420</td>\n",
              "      <td>472</td>\n",
              "    </tr>\n",
              "  </tbody>\n",
              "</table>\n",
              "</div>\n",
              "    <div class=\"colab-df-buttons\">\n",
              "\n",
              "  <div class=\"colab-df-container\">\n",
              "    <button class=\"colab-df-convert\" onclick=\"convertToInteractive('df-40fd5231-6d33-4184-8609-8959bb85fa15')\"\n",
              "            title=\"Convert this dataframe to an interactive table.\"\n",
              "            style=\"display:none;\">\n",
              "\n",
              "  <svg xmlns=\"http://www.w3.org/2000/svg\" height=\"24px\" viewBox=\"0 -960 960 960\">\n",
              "    <path d=\"M120-120v-720h720v720H120Zm60-500h600v-160H180v160Zm220 220h160v-160H400v160Zm0 220h160v-160H400v160ZM180-400h160v-160H180v160Zm440 0h160v-160H620v160ZM180-180h160v-160H180v160Zm440 0h160v-160H620v160Z\"/>\n",
              "  </svg>\n",
              "    </button>\n",
              "\n",
              "  <style>\n",
              "    .colab-df-container {\n",
              "      display:flex;\n",
              "      gap: 12px;\n",
              "    }\n",
              "\n",
              "    .colab-df-convert {\n",
              "      background-color: #E8F0FE;\n",
              "      border: none;\n",
              "      border-radius: 50%;\n",
              "      cursor: pointer;\n",
              "      display: none;\n",
              "      fill: #1967D2;\n",
              "      height: 32px;\n",
              "      padding: 0 0 0 0;\n",
              "      width: 32px;\n",
              "    }\n",
              "\n",
              "    .colab-df-convert:hover {\n",
              "      background-color: #E2EBFA;\n",
              "      box-shadow: 0px 1px 2px rgba(60, 64, 67, 0.3), 0px 1px 3px 1px rgba(60, 64, 67, 0.15);\n",
              "      fill: #174EA6;\n",
              "    }\n",
              "\n",
              "    .colab-df-buttons div {\n",
              "      margin-bottom: 4px;\n",
              "    }\n",
              "\n",
              "    [theme=dark] .colab-df-convert {\n",
              "      background-color: #3B4455;\n",
              "      fill: #D2E3FC;\n",
              "    }\n",
              "\n",
              "    [theme=dark] .colab-df-convert:hover {\n",
              "      background-color: #434B5C;\n",
              "      box-shadow: 0px 1px 3px 1px rgba(0, 0, 0, 0.15);\n",
              "      filter: drop-shadow(0px 1px 2px rgba(0, 0, 0, 0.3));\n",
              "      fill: #FFFFFF;\n",
              "    }\n",
              "  </style>\n",
              "\n",
              "    <script>\n",
              "      const buttonEl =\n",
              "        document.querySelector('#df-40fd5231-6d33-4184-8609-8959bb85fa15 button.colab-df-convert');\n",
              "      buttonEl.style.display =\n",
              "        google.colab.kernel.accessAllowed ? 'block' : 'none';\n",
              "\n",
              "      async function convertToInteractive(key) {\n",
              "        const element = document.querySelector('#df-40fd5231-6d33-4184-8609-8959bb85fa15');\n",
              "        const dataTable =\n",
              "          await google.colab.kernel.invokeFunction('convertToInteractive',\n",
              "                                                    [key], {});\n",
              "        if (!dataTable) return;\n",
              "\n",
              "        const docLinkHtml = 'Like what you see? Visit the ' +\n",
              "          '<a target=\"_blank\" href=https://colab.research.google.com/notebooks/data_table.ipynb>data table notebook</a>'\n",
              "          + ' to learn more about interactive tables.';\n",
              "        element.innerHTML = '';\n",
              "        dataTable['output_type'] = 'display_data';\n",
              "        await google.colab.output.renderOutput(dataTable, element);\n",
              "        const docLink = document.createElement('div');\n",
              "        docLink.innerHTML = docLinkHtml;\n",
              "        element.appendChild(docLink);\n",
              "      }\n",
              "    </script>\n",
              "  </div>\n",
              "\n",
              "\n",
              "<div id=\"df-fa372f3b-abe6-481b-80e4-f68537a0815b\">\n",
              "  <button class=\"colab-df-quickchart\" onclick=\"quickchart('df-fa372f3b-abe6-481b-80e4-f68537a0815b')\"\n",
              "            title=\"Suggest charts\"\n",
              "            style=\"display:none;\">\n",
              "\n",
              "<svg xmlns=\"http://www.w3.org/2000/svg\" height=\"24px\"viewBox=\"0 0 24 24\"\n",
              "     width=\"24px\">\n",
              "    <g>\n",
              "        <path d=\"M19 3H5c-1.1 0-2 .9-2 2v14c0 1.1.9 2 2 2h14c1.1 0 2-.9 2-2V5c0-1.1-.9-2-2-2zM9 17H7v-7h2v7zm4 0h-2V7h2v10zm4 0h-2v-4h2v4z\"/>\n",
              "    </g>\n",
              "</svg>\n",
              "  </button>\n",
              "\n",
              "<style>\n",
              "  .colab-df-quickchart {\n",
              "      --bg-color: #E8F0FE;\n",
              "      --fill-color: #1967D2;\n",
              "      --hover-bg-color: #E2EBFA;\n",
              "      --hover-fill-color: #174EA6;\n",
              "      --disabled-fill-color: #AAA;\n",
              "      --disabled-bg-color: #DDD;\n",
              "  }\n",
              "\n",
              "  [theme=dark] .colab-df-quickchart {\n",
              "      --bg-color: #3B4455;\n",
              "      --fill-color: #D2E3FC;\n",
              "      --hover-bg-color: #434B5C;\n",
              "      --hover-fill-color: #FFFFFF;\n",
              "      --disabled-bg-color: #3B4455;\n",
              "      --disabled-fill-color: #666;\n",
              "  }\n",
              "\n",
              "  .colab-df-quickchart {\n",
              "    background-color: var(--bg-color);\n",
              "    border: none;\n",
              "    border-radius: 50%;\n",
              "    cursor: pointer;\n",
              "    display: none;\n",
              "    fill: var(--fill-color);\n",
              "    height: 32px;\n",
              "    padding: 0;\n",
              "    width: 32px;\n",
              "  }\n",
              "\n",
              "  .colab-df-quickchart:hover {\n",
              "    background-color: var(--hover-bg-color);\n",
              "    box-shadow: 0 1px 2px rgba(60, 64, 67, 0.3), 0 1px 3px 1px rgba(60, 64, 67, 0.15);\n",
              "    fill: var(--button-hover-fill-color);\n",
              "  }\n",
              "\n",
              "  .colab-df-quickchart-complete:disabled,\n",
              "  .colab-df-quickchart-complete:disabled:hover {\n",
              "    background-color: var(--disabled-bg-color);\n",
              "    fill: var(--disabled-fill-color);\n",
              "    box-shadow: none;\n",
              "  }\n",
              "\n",
              "  .colab-df-spinner {\n",
              "    border: 2px solid var(--fill-color);\n",
              "    border-color: transparent;\n",
              "    border-bottom-color: var(--fill-color);\n",
              "    animation:\n",
              "      spin 1s steps(1) infinite;\n",
              "  }\n",
              "\n",
              "  @keyframes spin {\n",
              "    0% {\n",
              "      border-color: transparent;\n",
              "      border-bottom-color: var(--fill-color);\n",
              "      border-left-color: var(--fill-color);\n",
              "    }\n",
              "    20% {\n",
              "      border-color: transparent;\n",
              "      border-left-color: var(--fill-color);\n",
              "      border-top-color: var(--fill-color);\n",
              "    }\n",
              "    30% {\n",
              "      border-color: transparent;\n",
              "      border-left-color: var(--fill-color);\n",
              "      border-top-color: var(--fill-color);\n",
              "      border-right-color: var(--fill-color);\n",
              "    }\n",
              "    40% {\n",
              "      border-color: transparent;\n",
              "      border-right-color: var(--fill-color);\n",
              "      border-top-color: var(--fill-color);\n",
              "    }\n",
              "    60% {\n",
              "      border-color: transparent;\n",
              "      border-right-color: var(--fill-color);\n",
              "    }\n",
              "    80% {\n",
              "      border-color: transparent;\n",
              "      border-right-color: var(--fill-color);\n",
              "      border-bottom-color: var(--fill-color);\n",
              "    }\n",
              "    90% {\n",
              "      border-color: transparent;\n",
              "      border-bottom-color: var(--fill-color);\n",
              "    }\n",
              "  }\n",
              "</style>\n",
              "\n",
              "  <script>\n",
              "    async function quickchart(key) {\n",
              "      const quickchartButtonEl =\n",
              "        document.querySelector('#' + key + ' button');\n",
              "      quickchartButtonEl.disabled = true;  // To prevent multiple clicks.\n",
              "      quickchartButtonEl.classList.add('colab-df-spinner');\n",
              "      try {\n",
              "        const charts = await google.colab.kernel.invokeFunction(\n",
              "            'suggestCharts', [key], {});\n",
              "      } catch (error) {\n",
              "        console.error('Error during call to suggestCharts:', error);\n",
              "      }\n",
              "      quickchartButtonEl.classList.remove('colab-df-spinner');\n",
              "      quickchartButtonEl.classList.add('colab-df-quickchart-complete');\n",
              "    }\n",
              "    (() => {\n",
              "      let quickchartButtonEl =\n",
              "        document.querySelector('#df-fa372f3b-abe6-481b-80e4-f68537a0815b button');\n",
              "      quickchartButtonEl.style.display =\n",
              "        google.colab.kernel.accessAllowed ? 'block' : 'none';\n",
              "    })();\n",
              "  </script>\n",
              "</div>\n",
              "\n",
              "    </div>\n",
              "  </div>\n"
            ],
            "application/vnd.google.colaboratory.intrinsic+json": {
              "type": "dataframe",
              "summary": "{\n  \"name\": \"# From the data  it looks like the Month column represents each month of the year and the Passenger Count column shows how many passengers traveled in each of those months\",\n  \"rows\": 5,\n  \"fields\": [\n    {\n      \"column\": \"Month\",\n      \"properties\": {\n        \"dtype\": \"string\",\n        \"num_unique_values\": 5,\n        \"samples\": [\n          \"FEB\",\n          \"MAY\",\n          \"MAR\"\n        ],\n        \"semantic_type\": \"\",\n        \"description\": \"\"\n      }\n    },\n    {\n      \"column\": \" \\\"1958\\\"\",\n      \"properties\": {\n        \"dtype\": \"number\",\n        \"std\": 18,\n        \"min\": 318,\n        \"max\": 363,\n        \"num_unique_values\": 5,\n        \"samples\": [\n          318,\n          363,\n          362\n        ],\n        \"semantic_type\": \"\",\n        \"description\": \"\"\n      }\n    },\n    {\n      \"column\": \" \\\"1959\\\"\",\n      \"properties\": {\n        \"dtype\": \"number\",\n        \"std\": 32,\n        \"min\": 342,\n        \"max\": 420,\n        \"num_unique_values\": 5,\n        \"samples\": [\n          342,\n          420,\n          406\n        ],\n        \"semantic_type\": \"\",\n        \"description\": \"\"\n      }\n    },\n    {\n      \"column\": \" \\\"1960\\\"\",\n      \"properties\": {\n        \"dtype\": \"number\",\n        \"std\": 33,\n        \"min\": 391,\n        \"max\": 472,\n        \"num_unique_values\": 5,\n        \"samples\": [\n          391,\n          472,\n          419\n        ],\n        \"semantic_type\": \"\",\n        \"description\": \"\"\n      }\n    }\n  ]\n}"
            }
          },
          "metadata": {},
          "execution_count": 5
        }
      ]
    },
    {
      "cell_type": "markdown",
      "source": [
        " #### 6. Load the CSV from find:\n",
        "######  The month with the highest total passengers\n",
        "######  The month with the lowest in 1958"
      ],
      "metadata": {
        "id": "AofSl-bslP7K"
      }
    },
    {
      "cell_type": "code",
      "source": [
        "import pandas as pd\n",
        "\n",
        "df = pd.read_csv('airtravel.csv')\n",
        "\n",
        "df['Total_passenger_amount'] = df.drop(columns='Month').sum(axis=1)\n",
        "\n",
        "max_month = df.loc[df['Total_passenger_amount'].idxmax()]\n",
        "\n",
        "print(\"Month with the highest total passengers across all years :::::> \",max_month['Month'])\n",
        "print(\"The data is \",max_month)\n",
        "\n",
        "\n",
        "\n",
        "# print(df.columns)\n",
        "# The Mon with a lowest passenger count in 1959 is\n",
        "df.columns = df.columns.str.replace('\"', '').str.strip()\n",
        "mon_1958 = df[['Month', '1958']]\n",
        "min_month_1958 = mon_1958.loc[mon_1958['1958'].idxmin()]\n",
        "\n",
        "print(\"Month with the lowest total passengers in 1958 :::::>\",min_month_1958['Month'])\n",
        "\n"
      ],
      "metadata": {
        "colab": {
          "base_uri": "https://localhost:8080/"
        },
        "collapsed": true,
        "id": "WNWcjVkcmGEJ",
        "outputId": "4c2f7444-5a6a-40f0-8670-3094a7b5875e"
      },
      "execution_count": null,
      "outputs": [
        {
          "output_type": "stream",
          "name": "stdout",
          "text": [
            "Month with the highest total passengers across all years :::::>  AUG\n",
            "The data is  Month                      AUG\n",
            " \"1958\"                    505\n",
            " \"1959\"                    559\n",
            " \"1960\"                    606\n",
            "Total_passenger_amount    1670\n",
            "Name: 7, dtype: object\n",
            "Month with the lowest total passengers in 1958 :::::> NOV\n"
          ]
        }
      ]
    },
    {
      "cell_type": "markdown",
      "source": [
        "# 7.  What does the .groupby() function do in pandas? Show an example using dummy data."
      ],
      "metadata": {
        "id": "l3F7179owSGH"
      }
    },
    {
      "cell_type": "code",
      "source": [
        "''' The .groupby() function in pandas helps us to organize our data by categories like grouping sales by region or students by class.\n",
        "After grouping, we can do things like add up the numbers, find the average, or count how many items are in each group.\n",
        "It is a simple way for us to summarize and understand our data better.  '''\n",
        "\n",
        "\n",
        "\n",
        "# Example\n",
        "\n",
        "import pandas as pd\n",
        "\n",
        "data = {\n",
        "    'Region': ['Addis Ababa', 'Oromia', 'Amhara', 'Addis Ababa', 'Oromia', 'Amhara', 'Addis Ababa', 'Oromia'],\n",
        "    'Salesperson': ['Amina', 'Tesfaye', 'Marta', 'Liya', 'Hassan', 'Zewdu', 'Selam', 'Abdi'],\n",
        "    'Sales': [500, 300, 400, 350, 500, 450, 600, 550]\n",
        "}\n",
        "\n",
        "df = pd.DataFrame(data)\n",
        "\n",
        "grouped = df.groupby('Region')['Sales'].sum()\n",
        "\n",
        "print( \"the total sales per region ::\" , grouped)"
      ],
      "metadata": {
        "colab": {
          "base_uri": "https://localhost:8080/"
        },
        "id": "n48SsxDPwYcM",
        "outputId": "4852970a-ffee-44eb-9fc1-63c27aa8da56"
      },
      "execution_count": null,
      "outputs": [
        {
          "output_type": "stream",
          "name": "stdout",
          "text": [
            "the total sales per region :: Region\n",
            "Addis Ababa    1450\n",
            "Amhara          850\n",
            "Oromia         1350\n",
            "Name: Sales, dtype: int64\n"
          ]
        }
      ]
    },
    {
      "cell_type": "markdown",
      "source": [
        "# 8. Load the Titanic dataset from seaborn and:\n",
        "######     Count how many missing values are in each column  "
      ],
      "metadata": {
        "id": "oquOnjMMxb5C"
      }
    },
    {
      "cell_type": "code",
      "source": [
        "import pandas as pd\n",
        "import seaborn as sns\n",
        "\n",
        "\n",
        "df = sns.load_dataset('titanic')\n",
        "\n",
        "# Since it is asking us the missing values\n",
        "missing_values = df.isnull().sum()\n",
        "\n",
        "print(\"The Missing Values in each Column is \",missing_values)\n",
        "\n",
        "\n",
        "\n",
        "'''\n",
        "\n",
        "9.  Use df[\"Age\"].hist() to visualize the age distribution.\n",
        "What shape do you see\n",
        "\n",
        "What might be the reason for the skew? '''\n",
        "\n",
        "df[\"age\"].hist(bins=30)\n",
        "\n",
        "\n",
        "'''\n",
        "The shape that i notice is right-skewed\n",
        "\n",
        "\n",
        "- Reason for the skew?\n",
        "\n",
        " - There are more young passengers (children and young adults) on board.\n",
        " - Fewer elderly people traveled, which results in a long tail on the right.\n",
        "\n",
        "'''"
      ],
      "metadata": {
        "colab": {
          "base_uri": "https://localhost:8080/",
          "height": 726
        },
        "collapsed": true,
        "id": "Qbn-XI0pxqB4",
        "outputId": "e7853d3b-d755-4134-9779-c8506e784241"
      },
      "execution_count": null,
      "outputs": [
        {
          "output_type": "stream",
          "name": "stdout",
          "text": [
            "The Missing Values in each Column is  survived         0\n",
            "pclass           0\n",
            "sex              0\n",
            "age            177\n",
            "sibsp            0\n",
            "parch            0\n",
            "fare             0\n",
            "embarked         2\n",
            "class            0\n",
            "who              0\n",
            "adult_male       0\n",
            "deck           688\n",
            "embark_town      2\n",
            "alive            0\n",
            "alone            0\n",
            "dtype: int64\n"
          ]
        },
        {
          "output_type": "execute_result",
          "data": {
            "text/plain": [
              "'\\nThe shape that i notice is right-skewed\\n\\n\\n- Reason for the skew?\\n\\n - There are more young passengers (children and young adults) on board.\\n - Fewer elderly people traveled, which results in a long tail on the right.\\n \\n'"
            ],
            "application/vnd.google.colaboratory.intrinsic+json": {
              "type": "string"
            }
          },
          "metadata": {},
          "execution_count": 34
        },
        {
          "output_type": "display_data",
          "data": {
            "text/plain": [
              "<Figure size 640x480 with 1 Axes>"
            ],
            "image/png": "[encoded data removed]"
          },
          "metadata": {}
        }
      ]
    },
    {
      "cell_type": "markdown",
      "source": [
        "### What does it mean if a column has a high standard deviation?"
      ],
      "metadata": {
        "id": "6m01wMZE1X8_"
      }
    },
    {
      "cell_type": "markdown",
      "source": [
        " If a column has a high standard deviation, it means the values in that column are spread out .there's a lot of variation from the average. If the standard deviation is low, the values are close to each other and close to the average.\n",
        "\n",
        "\n",
        "\n",
        " ```\n",
        "import pandas as pd\n",
        "\n",
        "# Low standard deviation: values are close to each other\n",
        "low_std = pd.Series([50, 51, 49, 50, 50])\n",
        "\n",
        "The low_std list has values around 50, not changing much → small standard deviation.\n",
        "\n",
        "\n",
        "# High standard deviation: values are spread out\n",
        "high_std = pd.Series([10, 90, 30, 70, 50])\n",
        "The high_std list jumps from 10 to 90 → big standard deviation.\n",
        "\n",
        "print(\"Low std:\", low_std.std())\n",
        "print(\"High std:\", high_std.std())\n",
        "```\n"
      ],
      "metadata": {
        "id": "0kcdL_tY1j-O"
      }
    },
    {
      "cell_type": "markdown",
      "source": [
        "## 11.What are some real-world problems where missing data might affect results? Give 2 examples."
      ],
      "metadata": {
        "id": "cJQFa_9W2i3s"
      }
    },
    {
      "cell_type": "markdown",
      "source": [
        "If patient records have missing values like age, symptoms, or test results, it can lead to\n",
        "- Wrong diagnosis or treatment\n",
        "- Misleading analysis in medical research\n",
        "\n",
        "\n",
        "If people skip questions in a customer satisfaction survey, it can\n",
        "- Distort results, making a product seem better or worse than it is\n",
        "- Affect business decisions, like what features to improve or drop\n",
        "\n"
      ],
      "metadata": {
        "id": "Fa1hpuwD2lMO"
      }
    }
  ]
}